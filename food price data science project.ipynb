{
 "cells": [
  {
   "cell_type": "markdown",
   "metadata": {},
   "source": [
    "\n",
    "\n",
    "\n",
    "\n",
    "\n",
    "\n",
    "\n",
    "\n",
    "\n",
    "\n",
    "\n"
   ]
  },
  {
   "cell_type": "markdown",
   "metadata": {},
   "source": [
    "\n",
    "\n",
    "\n",
    "\n",
    "\n",
    "\n",
    "# Exploratory data analysis"
   ]
  },
  {
   "cell_type": "markdown",
   "metadata": {},
   "source": [
    "Basic Structures"
   ]
  },
  {
   "cell_type": "markdown",
   "metadata": {},
   "source": [
    "Let's import some important packages and read the dataset"
   ]
  },
  {
   "cell_type": "code",
   "execution_count": null,
   "metadata": {},
   "outputs": [],
   "source": [
    "import numpy as np\n",
    "import pandas as pd\n",
    "import plotly as plt\n",
    "from datetime import datetime\n",
    "#dateparse = lambda x: pd.datetime.strptime(x,'%y-%m-%d')\n",
    "data = pd.read_csv(\"F://DSA//wfp_food_prices_eth selected.csv\")#,parse_dates=['date'],date_parser=dateparse)\n",
    "import matplotlib.pyplot as plt\n",
    "data.ndim # dimension both row and column"
   ]
  },
  {
   "cell_type": "code",
   "execution_count": null,
   "metadata": {},
   "outputs": [],
   "source": [
    "data.head()# the first five rows of the dataset"
   ]
  },
  {
   "cell_type": "code",
   "execution_count": null,
   "metadata": {},
   "outputs": [],
   "source": [
    "data.tail(10)# the last ten rows of the dataset"
   ]
  },
  {
   "cell_type": "code",
   "execution_count": null,
   "metadata": {},
   "outputs": [],
   "source": [
    "#to remove the first not important row from the dataset\n",
    "data.drop([0],axis=0,inplace=True)\n",
    "data.head() # we can see the first not important row is removed so we can easily calculate statstical data"
   ]
  },
  {
   "cell_type": "code",
   "execution_count": null,
   "metadata": {},
   "outputs": [],
   "source": [
    "#data.loc[1,'date'].day_name()# here the date is in string format to solve this , change it in date format"
   ]
  },
  {
   "cell_type": "code",
   "execution_count": null,
   "metadata": {},
   "outputs": [],
   "source": [
    "data['date']  = pd.to_datetime(data['date'])# changing the date from object to string format\n",
    "data['date']"
   ]
  },
  {
   "cell_type": "code",
   "execution_count": null,
   "metadata": {},
   "outputs": [],
   "source": [
    "data.isnull().sum()#to check how many null values"
   ]
  },
  {
   "cell_type": "code",
   "execution_count": null,
   "metadata": {},
   "outputs": [],
   "source": [
    "data[data.isnull().any(axis=1)].head()# the missing values in the dataset at any row "
   ]
  },
  {
   "cell_type": "code",
   "execution_count": null,
   "metadata": {},
   "outputs": [],
   "source": [
    "data.admin1 = data.admin1.fillna('Misrak Gojam')# now filling the null values  \n",
    "data.admin1\n",
    "data.admin2 = data.admin2.fillna('Enemay woreda')\n",
    "data.admin2\n",
    "data.latitude = data.latitude.fillna(10.27)\n",
    "data.latitude\n",
    "data.longitude = data.longitude.fillna(38.12)\n",
    "data.longitude"
   ]
  },
  {
   "cell_type": "code",
   "execution_count": null,
   "metadata": {},
   "outputs": [],
   "source": [
    "data.isnull().sum()#to check how many null values after filling the empty space"
   ]
  },
  {
   "cell_type": "code",
   "execution_count": null,
   "metadata": {},
   "outputs": [],
   "source": [
    "data.dtypes# data types"
   ]
  },
  {
   "cell_type": "code",
   "execution_count": null,
   "metadata": {},
   "outputs": [],
   "source": [
    "data['price'] = data.price.astype(float)\n",
    "data['usdprice'] = data.usdprice.astype(float)#to change the price value from object to float\n",
    "data.dtypes\n"
   ]
  },
  {
   "cell_type": "code",
   "execution_count": null,
   "metadata": {},
   "outputs": [],
   "source": [
    "print(\"checking Redundancy in each column\")\n",
    "column ={'price':data['price'].duplicated().sum(),'pricetype':data['pricetype'].duplicated().sum()\n",
    "        ,'priceflag':data['priceflag'].duplicated().sum(),'commodity':data['commodity'].duplicated().sum(),'category':data['category'].duplicated().sum(),'market':data['market'].duplicated().sum(),'date':data['date'].duplicated().sum(),'currency':data['currency'].duplicated().sum(),'unit':data['unit'].duplicated().sum(),'admin1':data['admin1'].duplicated().sum(),'admin2':data['admin2'].duplicated().sum(),'latitude':data['latitude'].duplicated().sum(),'longitude':data['longitude'].duplicated().sum()\n",
    "  \n",
    "        }\n",
    "for col, c_val in column.items():\n",
    "        print('The amount of redundent value in  '+ col +'-> ' + str(c_val) )\n",
    "    "
   ]
  },
  {
   "cell_type": "code",
   "execution_count": null,
   "metadata": {},
   "outputs": [],
   "source": [
    "# we have seen how much all columns have redundent values, now all redundent values removed \n",
    "print(\"these are number of values in each column after removing the redundent values\")\n",
    "print(\"commodity: \" + str(data['commodity'].drop_duplicates().shape))\n",
    "print(\"price: \"+ str(data['price'].drop_duplicates().shape))\n",
    "print(\"pricetype :\" + str(data['pricetype'].drop_duplicates().shape))\n",
    "print(\"priceflag:\" + str(data['priceflag'].drop_duplicates().shape))\n",
    "print(\"unit:\" + str(data['unit'].drop_duplicates().shape))\n",
    "print(\"currency: \"+ str(data['currency'].drop_duplicates().shape))\n",
    "print(\"latitude :\"+ str(data['latitude'].drop_duplicates().shape))\n",
    "print(\"longitude :\" + str(data['longitude'].drop_duplicates().shape))\n",
    "print(\"market :\" + str(data['market'].drop_duplicates().shape))\n",
    "print(\"admin1 :\"+ str(data['admin1'].drop_duplicates().shape))\n",
    "print(\"admin2 :\"+ str(data['admin2'].drop_duplicates().shape))\n",
    "print(\"category :\" + str(data['category'].drop_duplicates().shape))\n",
    "print(\"date :\" + str(data['date'].drop_duplicates().shape))"
   ]
  },
  {
   "cell_type": "code",
   "execution_count": null,
   "metadata": {},
   "outputs": [],
   "source": [
    "data.duplicated().sum()# no duplicate value in general context"
   ]
  },
  {
   "cell_type": "code",
   "execution_count": null,
   "metadata": {},
   "outputs": [],
   "source": [
    "data.columns# list the name of columns"
   ]
  },
  {
   "cell_type": "code",
   "execution_count": null,
   "metadata": {},
   "outputs": [],
   "source": [
    "data.size#number of elements"
   ]
  },
  {
   "cell_type": "code",
   "execution_count": null,
   "metadata": {},
   "outputs": [],
   "source": [
    "data.axes   # listing the row labels and column names"
   ]
  },
  {
   "cell_type": "code",
   "execution_count": null,
   "metadata": {},
   "outputs": [],
   "source": [
    "data.shape# to see both total number of rows and total number of columns"
   ]
  },
  {
   "cell_type": "code",
   "execution_count": null,
   "metadata": {},
   "outputs": [],
   "source": [
    "data[['category','priceflag','price']]# slicing multiple column from whole dataset"
   ]
  },
  {
   "cell_type": "code",
   "execution_count": null,
   "metadata": {},
   "outputs": [],
   "source": [
    "data.values# array or matrix form in general numpy representation"
   ]
  },
  {
   "cell_type": "markdown",
   "metadata": {},
   "source": [
    "• Summary statistics"
   ]
  },
  {
   "cell_type": "code",
   "execution_count": null,
   "metadata": {
    "scrolled": true
   },
   "outputs": [],
   "source": [
    "#data frame methods need parenthesis they are describe(),head(),std(),mean(),median(),min(),max(),sample(),dropna()\n",
    "data.min()\n"
   ]
  },
  {
   "cell_type": "code",
   "execution_count": null,
   "metadata": {},
   "outputs": [],
   "source": [
    "data.max()"
   ]
  },
  {
   "cell_type": "code",
   "execution_count": null,
   "metadata": {},
   "outputs": [],
   "source": [
    "data['price'].count()\n",
    "\n",
    "#data.price\n",
    "#mean(price)"
   ]
  },
  {
   "cell_type": "code",
   "execution_count": null,
   "metadata": {},
   "outputs": [],
   "source": [
    "data['price']"
   ]
  },
  {
   "cell_type": "code",
   "execution_count": null,
   "metadata": {},
   "outputs": [],
   "source": [
    "print(data['pricetype'].value_counts(dropna=False))\n",
    "print(data['admin1'].value_counts(dropna=False))#  it counts as it is"
   ]
  },
  {
   "cell_type": "code",
   "execution_count": null,
   "metadata": {},
   "outputs": [],
   "source": [
    "data.sum(axis = 1)\n",
    "print(data['price'].sum())\n",
    "print(data['usdprice'].sum())\n",
    "\n",
    "#data.sum()"
   ]
  },
  {
   "cell_type": "code",
   "execution_count": null,
   "metadata": {
    "scrolled": true
   },
   "outputs": [],
   "source": [
    "data.sort_values('price')# sorting / ordering by price\n"
   ]
  },
  {
   "cell_type": "code",
   "execution_count": null,
   "metadata": {},
   "outputs": [],
   "source": [
    "data.describe() # statistical summary of the data"
   ]
  },
  {
   "cell_type": "code",
   "execution_count": null,
   "metadata": {},
   "outputs": [],
   "source": [
    "data.sample()"
   ]
  },
  {
   "cell_type": "code",
   "execution_count": null,
   "metadata": {},
   "outputs": [],
   "source": [
    "data.mean()"
   ]
  },
  {
   "cell_type": "code",
   "execution_count": null,
   "metadata": {},
   "outputs": [],
   "source": [
    "data.cov()#calculating the covariance\n"
   ]
  },
  {
   "cell_type": "code",
   "execution_count": null,
   "metadata": {},
   "outputs": [],
   "source": [
    "data['latitude']= data.latitude.astype(float)\n",
    "data['longitude']= data.longitude.astype(float)# if the datatype is not changed it is difficult for statsical data\n",
    "\n",
    "data[\"latitude\"].corr(data[\"longitude\"])# the correlation between latitude and longitude"
   ]
  },
  {
   "cell_type": "code",
   "execution_count": null,
   "metadata": {},
   "outputs": [],
   "source": [
    "data[data.commodity==\"Teff\"].usdprice.mean()# the mean value of teff price to see as an example"
   ]
  },
  {
   "cell_type": "code",
   "execution_count": null,
   "metadata": {},
   "outputs": [],
   "source": [
    "data['price'].max()# maximum price "
   ]
  },
  {
   "cell_type": "code",
   "execution_count": null,
   "metadata": {},
   "outputs": [],
   "source": [
    "data['date'].min()# the starting date"
   ]
  },
  {
   "cell_type": "code",
   "execution_count": null,
   "metadata": {},
   "outputs": [],
   "source": [
    "data['date'].max()# the end date of this dataset"
   ]
  },
  {
   "cell_type": "code",
   "execution_count": null,
   "metadata": {},
   "outputs": [],
   "source": [
    "# aggregation or computing summary statistic  for each group\n",
    "data[['commodity','category']].agg(['min','max'])"
   ]
  },
  {
   "cell_type": "code",
   "execution_count": null,
   "metadata": {},
   "outputs": [],
   "source": [
    "data.sort_values('commodity').head(10)# sorting the commodity and displaying the first ten rows"
   ]
  },
  {
   "cell_type": "markdown",
   "metadata": {},
   "source": [
    "Grouping "
   ]
  },
  {
   "cell_type": "code",
   "execution_count": null,
   "metadata": {},
   "outputs": [],
   "source": [
    "data.groupby('priceflag')[['price']].min() #using the minimum price it is grouping the price flag\n"
   ]
  },
  {
   "cell_type": "code",
   "execution_count": null,
   "metadata": {},
   "outputs": [],
   "source": [
    "data_subset = data[data['category'] =='non-food']# this is filtering or subsetting the \n",
    "                                                  #data based on boolean less, greater equal , not equal, greater or equal\n",
    "data_subset.head()"
   ]
  },
  {
   "cell_type": "code",
   "execution_count": null,
   "metadata": {},
   "outputs": [],
   "source": [
    "data.commodity.count()"
   ]
  },
  {
   "cell_type": "code",
   "execution_count": null,
   "metadata": {},
   "outputs": [],
   "source": [
    "#what about if we select rows with its specific labels we use the method loc \n",
    "data.loc[10:20,['date','market','category']]"
   ]
  },
  {
   "cell_type": "code",
   "execution_count": null,
   "metadata": {},
   "outputs": [],
   "source": [
    "data.loc[50:55,['date','commodity','price','admin1']]# to see as an example"
   ]
  },
  {
   "cell_type": "code",
   "execution_count": null,
   "metadata": {},
   "outputs": [],
   "source": [
    "data.iloc[10:20,[0,3,6]]# the same to loc but it uses index location or position here we use the column names index"
   ]
  },
  {
   "cell_type": "code",
   "execution_count": null,
   "metadata": {},
   "outputs": [],
   "source": [
    "data.iloc[[0,4],[2,5]]# 0th row column 2, 0th row column 5, 4th row column 2 and 4th row column 5"
   ]
  },
  {
   "cell_type": "code",
   "execution_count": null,
   "metadata": {},
   "outputs": [],
   "source": [
    "data.iloc[:,0:3]# first three columns"
   ]
  },
  {
   "cell_type": "code",
   "execution_count": null,
   "metadata": {},
   "outputs": [],
   "source": [
    "data.iloc[1:3,:]# 1st row or index one's row up to index 3 doesn't include index 3"
   ]
  },
  {
   "cell_type": "code",
   "execution_count": null,
   "metadata": {},
   "outputs": [],
   "source": [
    "data.iloc[3:6,2:5]"
   ]
  },
  {
   "cell_type": "code",
   "execution_count": null,
   "metadata": {},
   "outputs": [],
   "source": [
    "data.commodity.value_counts().head(10)# each individuals quantity in number"
   ]
  },
  {
   "cell_type": "code",
   "execution_count": null,
   "metadata": {},
   "outputs": [],
   "source": [
    "data.commodity.unique()# array format of the total record of commodity with out redundency"
   ]
  },
  {
   "cell_type": "code",
   "execution_count": null,
   "metadata": {},
   "outputs": [],
   "source": [
    "data.commodity.nunique()# total number of records in that column"
   ]
  },
  {
   "cell_type": "code",
   "execution_count": null,
   "metadata": {},
   "outputs": [],
   "source": [
    "#grouping the price type and commodity\n",
    "comm_pricetype=pd.DataFrame(data.groupby(['pricetype','commodity']).sum()['price'])\n",
    "comm_pricetype.sort_values(['pricetype','price'],ascending=False)"
   ]
  },
  {
   "cell_type": "code",
   "execution_count": null,
   "metadata": {},
   "outputs": [],
   "source": [
    "#the first 10 expensive commodity prices in decreasing order\n",
    "commodity_price=pd.DataFrame(data.groupby('commodity').sum()['price'])\n",
    "comm_price=commodity_price.sort_values('price',ascending=False)\n",
    "comm_price[:10]"
   ]
  },
  {
   "cell_type": "code",
   "execution_count": null,
   "metadata": {},
   "outputs": [],
   "source": [
    "#getting month year from dataset, leaving the days\n",
    "data['month-year'] = data['date'].apply(lambda x: x.strftime('%Y-%m'))\n",
    "#grouping month year\n",
    "data_trend=data.groupby('month-year').sum()['price'].reset_index()\n",
    "data_trend\n"
   ]
  },
  {
   "cell_type": "code",
   "execution_count": null,
   "metadata": {},
   "outputs": [],
   "source": [
    "df = pd.DataFrame(data,columns=['commodity','category','priceflag']).head()#creating dataframe for the first five commodity, category and priceflag values\n",
    "df\n"
   ]
  },
  {
   "cell_type": "code",
   "execution_count": null,
   "metadata": {},
   "outputs": [],
   "source": [
    "pd.DataFrame(data.category.value_counts())# each categories quantity"
   ]
  },
  {
   "cell_type": "code",
   "execution_count": null,
   "metadata": {},
   "outputs": [],
   "source": [
    "pd.DataFrame(data.priceflag.value_counts())"
   ]
  },
  {
   "cell_type": "code",
   "execution_count": null,
   "metadata": {},
   "outputs": [],
   "source": [
    "pd.DataFrame(data.priceflag.value_counts(normalize=True))# to make the proportion easily"
   ]
  },
  {
   "cell_type": "code",
   "execution_count": null,
   "metadata": {},
   "outputs": [],
   "source": [
    "bycategory = data.groupby('category').priceflag.value_counts(normalize=True)\n",
    "bycategory"
   ]
  },
  {
   "cell_type": "code",
   "execution_count": null,
   "metadata": {},
   "outputs": [],
   "source": [
    "bycategory.unstack()# now we can get  the well structured record than the previous "
   ]
  },
  {
   "cell_type": "code",
   "execution_count": null,
   "metadata": {},
   "outputs": [],
   "source": [
    "data['priceGroup'] = pd.cut(data.price,[1,600,1300,2000,2800,9000], labels=['1-600','600-1300','1300-2000','2000-2800','2800-9000'])\n",
    "data['priceGroup'].head()# creating the group for price data , here we use maximum price as 9000"
   ]
  },
  {
   "cell_type": "code",
   "execution_count": null,
   "metadata": {},
   "outputs": [],
   "source": [
    "byprice = data.groupby(['priceGroup','category']).priceflag.value_counts(normalize=True)"
   ]
  },
  {
   "cell_type": "code",
   "execution_count": null,
   "metadata": {},
   "outputs": [],
   "source": [
    "byprice.unstack().drop(\"aggregate\",axis = 1)"
   ]
  },
  {
   "cell_type": "code",
   "execution_count": null,
   "metadata": {},
   "outputs": [],
   "source": [
    "byprice.unstack().drop(\"aggregate\",axis = 1).unstack()# to clean it much more and plot it again"
   ]
  },
  {
   "cell_type": "code",
   "execution_count": null,
   "metadata": {},
   "outputs": [],
   "source": [
    "byprice2 = byprice.unstack().drop(\"aggregate\",axis = 1).unstack()# to clean it much more and plot it again\n",
    "byprice2.columns = ['cereals and tubers','meat, fish and eggs','milk and dairy','miscellaneous food','non-food','oil and fats','pulses and nuts','vegetables and fruits']\n",
    "byprice2.columns.name = \"category\""
   ]
  },
  {
   "cell_type": "code",
   "execution_count": null,
   "metadata": {},
   "outputs": [],
   "source": [
    "byprice2"
   ]
  },
  {
   "cell_type": "code",
   "execution_count": null,
   "metadata": {},
   "outputs": [],
   "source": [
    "# how to sort using 2 or more columns\n",
    "data.sort_values(by=['commodity','price'],ascending=[True,True]).head()"
   ]
  },
  {
   "cell_type": "code",
   "execution_count": null,
   "metadata": {},
   "outputs": [],
   "source": [
    "pd.DataFrame(data.commodity.value_counts())"
   ]
  },
  {
   "cell_type": "markdown",
   "metadata": {},
   "source": [
    "Distribution "
   ]
  },
  {
   "cell_type": "code",
   "execution_count": null,
   "metadata": {},
   "outputs": [],
   "source": [
    "#getting month year from dataset\n",
    "#data['year'] = data['date'].apply(lambda x: x.strftime('%Y'))\n",
    "data['year'] = data['date'].apply(lambda x: x.strftime('%Y'))\n",
    "\n",
    "#grouping by year\n",
    "data_trend=data.groupby('year').sum()['price'].reset_index()\n",
    "plt.plot(data_trend.year,data_trend.price,'b.-',label=\"price\")\n",
    "plt.ylabel('Price_trend')\n",
    "\n",
    "data_trend.year[::5]\n",
    "plt.xticks(data_trend.year[: :5])\n",
    "plt.legend()\n",
    "plt.show()\n",
    "#print(data_trend)\n"
   ]
  },
  {
   "cell_type": "code",
   "execution_count": null,
   "metadata": {},
   "outputs": [],
   "source": [
    "comm_price=data.groupby('commodity').sum()['price'].reset_index()\n",
    "plt.plot(comm_price.commodity,comm_price.price,'r.-',label=\"commodity\")\n",
    "plt.ylabel('commodity_trend')\n",
    "plt.xticks(comm_price.commodity[: :10])\n",
    "comm_price.commodity[::10]\n",
    "plt.xticks(rotation='vertical',size=10)\n",
    "plt.legend()\n",
    "plt.show()"
   ]
  },
  {
   "cell_type": "code",
   "execution_count": null,
   "metadata": {},
   "outputs": [],
   "source": [
    "print(data.date[::10000])# subsetting the set by ten thausand"
   ]
  },
  {
   "cell_type": "code",
   "execution_count": null,
   "metadata": {},
   "outputs": [],
   "source": [
    "\n",
    "plt.figure(figsize=(20,6))\n",
    "plt.plot(data.date,data.price,label=\"price_trend\")# such a bulk data elements\n",
    "plt.xticks(data.date[::10000])#even using this large subset\n",
    "plt.ylabel('Price_trend')\n",
    "plt.legend()\n",
    "plt.show()"
   ]
  },
  {
   "cell_type": "code",
   "execution_count": null,
   "metadata": {},
   "outputs": [],
   "source": [
    "# the most prefered category using distribution\n",
    "import seaborn as sns\n",
    "plt.figure(figsize=(15,8))\n",
    "plt.xticks(rotation='vertical',size=10)\n",
    "sns.countplot(data['category'])"
   ]
  },
  {
   "cell_type": "markdown",
   "metadata": {},
   "source": [
    "# now lets visualise  the groups of the distribution"
   ]
  },
  {
   "cell_type": "code",
   "execution_count": null,
   "metadata": {},
   "outputs": [],
   "source": [
    "plt.figure(figsize=(10,4))\n",
    "plt.subplot(1,2,1);data.priceflag.value_counts().plot(kind='bar',color=['C0','C1'])\n",
    "plt.title('Priceflag')\n",
    "plt.subplot(1,2,2);data.category.value_counts().plot(kind='bar',color=['C2','C3'])\n",
    "plt.title('category')\n"
   ]
  },
  {
   "cell_type": "code",
   "execution_count": null,
   "metadata": {},
   "outputs": [],
   "source": [
    "plt.subplot(2,2,1);data.priceflag.value_counts().plot(kind='pie',colors=['C0','C1']);\n",
    "plt.title('Priceflag')\n",
    "plt.subplot(2,2,2);data.category.value_counts().plot(kind='pie',colors=['C0','C1','C2','C3','C4','C5','C6','C7']);\n",
    "plt.title('category')"
   ]
  },
  {
   "cell_type": "code",
   "execution_count": null,
   "metadata": {},
   "outputs": [],
   "source": [
    "bycategory.unstack().plot(kind='bar',stacked=True)"
   ]
  },
  {
   "cell_type": "code",
   "execution_count": null,
   "metadata": {},
   "outputs": [],
   "source": [
    "plt.figure(figsize=(20,8))\n",
    "byprice.unstack().plot(kind='bar',stacked=True)"
   ]
  },
  {
   "cell_type": "code",
   "execution_count": null,
   "metadata": {},
   "outputs": [],
   "source": [
    "byprice2.plot(kind='bar')"
   ]
  },
  {
   "cell_type": "code",
   "execution_count": null,
   "metadata": {},
   "outputs": [],
   "source": [
    "data.price.plot(kind=\"hist\")\n",
    "\n",
    "#data.commodity.plot(kind=\"hist\")"
   ]
  },
  {
   "cell_type": "code",
   "execution_count": null,
   "metadata": {},
   "outputs": [],
   "source": [
    "plt.figure(figsize=(20,8))\n",
    "group=data.groupby(\"category\")\n",
    "group.mean().plot(kind=\"bar\")\n"
   ]
  },
  {
   "cell_type": "code",
   "execution_count": null,
   "metadata": {},
   "outputs": [],
   "source": [
    "#scatter plot to see the relation items in each of the groups\n",
    "ax=data.plot.scatter(x='priceflag', y='category', \n",
    "                     color='Blue', label='priceflag')\n",
    "data.plot.scatter(x='pricetype', y='category', color='red', \n",
    "                  label='category', ax=ax)\n"
   ]
  },
  {
   "cell_type": "markdown",
   "metadata": {},
   "source": [
    "Pivot"
   ]
  },
  {
   "cell_type": "code",
   "execution_count": null,
   "metadata": {},
   "outputs": [],
   "source": [
    "pivot_df = pd.DataFrame({'price':[120.75,187.25,222.0,168.75,124.50,171.25,246.25,163.75,314.00,582.00,795.00,550.00,456.0,894.00,1205.00,973.00],'commodity':['Maize(White)','Sorghum(white)','Teff','Wheat','Maize(White)','Sorghum(white)','Teff','Wheat','Maize(White)','Sorghum(white)','Teff','Wheat','Maize(White)','Sorghum(white)','Teff','Wheat'],'date':[2000,2000,2000,2000,2005,2005,2005,2005,2010,2010,2010,2010,2015,2015,2015,2015]})\n",
    "df_pivot1=pivot_df.pivot(index='date',columns='commodity',values='price')\n",
    "df_pivot1\n"
   ]
  },
  {
   "cell_type": "code",
   "execution_count": null,
   "metadata": {},
   "outputs": [],
   "source": [
    "data.pivot_table(index='category',columns='date')\n"
   ]
  },
  {
   "cell_type": "code",
   "execution_count": null,
   "metadata": {},
   "outputs": [],
   "source": [
    "# visualizing the pivot output\n",
    "plt.figure(figsize=(15,4))\n",
    "plt.plot(df_pivot1)\n",
    "plt.ylabel('Maize,Sorghum,Teff,Wheat')\n",
    "plt.xticks(rotation='vertical',size=8)\n",
    "plt.show()\n"
   ]
  },
  {
   "cell_type": "markdown",
   "metadata": {},
   "source": [
    "Crosstab"
   ]
  },
  {
   "cell_type": "code",
   "execution_count": null,
   "metadata": {},
   "outputs": [],
   "source": [
    "pd.crosstab(data.commodity, data.date)"
   ]
  },
  {
   "cell_type": "markdown",
   "metadata": {},
   "source": [
    "# Creating dash board and screenshoot"
   ]
  },
  {
   "cell_type": "code",
   "execution_count": null,
   "metadata": {},
   "outputs": [],
   "source": [
    "import dash\n",
    "import plotly as py\n",
    "from dash.dependencies import Input, Output\n",
    "import dash_html_components as html\n",
    "import plotly.io as pio\n",
    "import plotly.express as px\n",
    "import dash_core_components as dcc\n",
    "#import dash_bootstrap_components as dbc\n",
    "import plotly.graph_objs as go\n",
    "import ipywidgets as widgets\n",
    "from scipy import special\n",
    "py.offline.init_notebook_mode(connected= True)\n"
   ]
  },
  {
   "cell_type": "code",
   "execution_count": null,
   "metadata": {},
   "outputs": [],
   "source": [
    "msk = data['admin1']=='Addis Ababa'\n",
    "px.line(data[msk],x='date',y='price',color='pricetype',title='Price trend in Addis Ababa')\n",
    "\n",
    "\n",
    "\n"
   ]
  },
  {
   "cell_type": "code",
   "execution_count": null,
   "metadata": {},
   "outputs": [],
   "source": [
    "#create the dash app and other userfriendly features"
   ]
  },
  {
   "cell_type": "code",
   "execution_count": null,
   "metadata": {},
   "outputs": [],
   "source": [
    "app=dash.Dash()\n",
    "app.layout= html.Div(children=[html.H1(children='Food Prices Dashboard'),dcc.Dropdown(id='admin-dropdown',\n",
    "                                                                        options=[{'label':i,'value':i}\n",
    "                                                                             for i in data['admin1'].unique()],\n",
    "                                                                                     value='Addis Ababa'),\n",
    "                                                                         dcc.Graph(id='price-graph')])\n"
   ]
  },
  {
   "cell_type": "code",
   "execution_count": null,
   "metadata": {},
   "outputs": [],
   "source": [
    "#call back function\n",
    "@app.callback(\n",
    "Output(component_id='price-graph',component_property='figure'),\n",
    "Input(component_id='admin-dropdown',component_property='value')\n",
    ")\n",
    "def update_graph(selected_admin):\n",
    "    filtered_data = data[data['admin1']==selected_admin]\n",
    "    line_fig = px.line(filtered_data,x='date',y='price',color='pricetype',\n",
    "                       title=f'Food prices in {selected_admin}')\n",
    "    return line_fig\n",
    "\n"
   ]
  },
  {
   "cell_type": "markdown",
   "metadata": {},
   "source": [
    "# run local server"
   ]
  },
  {
   "cell_type": "code",
   "execution_count": null,
   "metadata": {},
   "outputs": [],
   "source": [
    "if __name__ =='__main__':\n",
    "    app.run_server(debug=False)"
   ]
  },
  {
   "cell_type": "code",
   "execution_count": null,
   "metadata": {},
   "outputs": [],
   "source": [
    "# some samples from dashboard "
   ]
  },
  {
   "cell_type": "code",
   "execution_count": null,
   "metadata": {},
   "outputs": [],
   "source": [
    "from IPython.display import Image\n",
    "Image(filename = \"C://Users//Remla//Downloads//New folder//oromiya.png\",width = 400,height=1000)\n",
    "\n"
   ]
  },
  {
   "cell_type": "code",
   "execution_count": null,
   "metadata": {},
   "outputs": [],
   "source": [
    "Image(filename = \"C://Users//Remla//Downloads//New folder//Afar.png\",width = 400,height=1000)\n",
    "\n"
   ]
  },
  {
   "cell_type": "code",
   "execution_count": null,
   "metadata": {},
   "outputs": [],
   "source": [
    "Image(filename = \"C://Users//Remla//Downloads//New folder//addiss Ababa.png\",width = 400,height=1000)\n"
   ]
  },
  {
   "cell_type": "markdown",
   "metadata": {},
   "source": [
    "\n",
    "\n",
    "\n",
    "\n"
   ]
  }
 ],
 "metadata": {
  "kernelspec": {
   "display_name": "Python 3",
   "language": "python",
   "name": "python3"
  },
  "language_info": {
   "codemirror_mode": {
    "name": "ipython",
    "version": 3
   },
   "file_extension": ".py",
   "mimetype": "text/x-python",
   "name": "python",
   "nbconvert_exporter": "python",
   "pygments_lexer": "ipython3",
   "version": "3.8.3"
  }
 },
 "nbformat": 4,
 "nbformat_minor": 4
}
